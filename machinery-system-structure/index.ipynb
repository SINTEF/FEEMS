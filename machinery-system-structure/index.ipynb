{
 "cells": [
  {
   "cell_type": "raw",
   "metadata": {},
   "source": [
    "---\n",
    "description: A standard interface for machinery system structure is defined in . A\n",
    "  python code for handling .\n",
    "output-file: index.html\n",
    "title: Machinery System Structure\n",
    "\n",
    "---\n",
    "\n"
   ]
  },
  {
   "cell_type": "code",
   "execution_count": null,
   "metadata": {},
   "outputs": [],
   "source": [
    "#| include: false"
   ]
  },
  {
   "cell_type": "markdown",
   "metadata": {},
   "source": [
    "## Install for development"
   ]
  },
  {
   "cell_type": "markdown",
   "metadata": {},
   "source": [
    "First, create a virtual environment for the development and install all the required packages.\n",
    "\n",
    "`pip install -r requirements.txt`\n",
    "\n",
    "You need to install compiler for protobuf. You can download the precompiled binary file from\n",
    "[here](https://github.com/protocolbuffers/protobuf/releases).\n",
    "\n",
    "Whenever the proto files are updated, you need to generate python files.\n",
    "\n",
    "`protoc ./proto/system_structure.proto --python_out=./system_structure --mypy_out`\n",
    "\n",
    "\n",
    "`pip install your_project_name`"
   ]
  },
  {
   "cell_type": "markdown",
   "metadata": {},
   "source": [
    "## How to use"
   ]
  },
  {
   "cell_type": "markdown",
   "metadata": {},
   "source": [
    "Fill me in please! Don't forget code examples:"
   ]
  },
  {
   "cell_type": "code",
   "execution_count": null,
   "metadata": {},
   "outputs": [
    {
     "data": {
      "text/plain": [
       "2"
      ]
     },
     "execution_count": null,
     "metadata": {},
     "output_type": "execute_result"
    }
   ],
   "source": [
    "1+1"
   ]
  },
  {
   "cell_type": "code",
   "execution_count": null,
   "metadata": {},
   "outputs": [],
   "source": []
  }
 ],
 "metadata": {
  "kernelspec": {
   "display_name": "python3",
   "language": "python",
   "name": "python3"
  }
 },
 "nbformat": 4,
 "nbformat_minor": 4
}
