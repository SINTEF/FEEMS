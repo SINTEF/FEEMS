{
 "cells": [
  {
   "cell_type": "raw",
   "metadata": {},
   "source": [
    "---\n",
    "output-file: utility.html\n",
    "title: Utility\n",
    "\n",
    "---\n",
    "\n"
   ]
  },
  {
   "cell_type": "code",
   "execution_count": null,
   "metadata": {},
   "outputs": [],
   "source": [
    "# | default_exp utility\n",
    "%load_ext autoreload\n",
    "%autoreload 2"
   ]
  },
  {
   "cell_type": "code",
   "execution_count": null,
   "metadata": {},
   "outputs": [],
   "source": [
    "# | include: false\n",
    "from nbdev.showdoc import *"
   ]
  },
  {
   "cell_type": "code",
   "execution_count": null,
   "metadata": {},
   "outputs": [],
   "source": [
    "# | export\n",
    "import io\n",
    "import os\n",
    "from typing import Union\n",
    "\n",
    "import MachSysS.system_structure_pb2 as proto_system\n",
    "import MachSysS.gymir_result_pb2 as proto_gymir\n",
    "\n",
    "\n",
    "def retrieve_machinery_system_from_file(\n",
    "    file: Union[str, io.BytesIO]\n",
    ") -> proto_system.MachinerySystem:\n",
    "    if isinstance(file, str):\n",
    "        file = open(file, \"rb\")\n",
    "    system = proto_system.MachinerySystem()\n",
    "    system.ParseFromString(file.read())\n",
    "    file.close()\n",
    "    return system\n",
    "\n",
    "\n",
    "def retrieve_gymir_result_from_file(\n",
    "    file: Union[str, io.BytesIO]\n",
    ") -> proto_gymir.GymirResult:\n",
    "    if isinstance(file, str):\n",
    "        file = open(file, \"rb\")\n",
    "    system = proto_gymir.GymirResult()\n",
    "    system.ParseFromString(file.read())\n",
    "    file.close()\n",
    "    return system"
   ]
  }
 ],
 "metadata": {
  "kernelspec": {
   "display_name": "python3",
   "language": "python",
   "name": "python3"
  },
  "language_info": {
   "name": "python",
   "version": "3.12.1"
  }
 },
 "nbformat": 4,
 "nbformat_minor": 0
}
