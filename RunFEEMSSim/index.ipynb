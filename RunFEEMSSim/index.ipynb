{
 "cells": [
  {
   "cell_type": "code",
   "execution_count": null,
   "metadata": {},
   "outputs": [],
   "source": [
    "#| hide\n",
    "from RunFeemsSim.machinery_calculation import *"
   ]
  },
  {
   "cell_type": "markdown",
   "metadata": {},
   "source": [
    "# RunFeemsSim\n",
    "\n",
    "> The RunFeemsSim package is a Python package for running FEEMS simulations. It provides a simple\n",
    "> interface for running FEEMS simulations and for visualizing the results. It also provides a basic\n",
    "> pms model to apply for an electric power system that has a functionality of load dependent\n",
    "> start-stop of gensets."
   ]
  },
  {
   "cell_type": "markdown",
   "metadata": {},
   "source": [
    "## Installation of the package"
   ]
  },
  {
   "cell_type": "markdown",
   "metadata": {},
   "source": [
    "The package is distributed by the Azure Artifacts package manager. To install the package,\n",
    "you need to install artifacts-keyring package and should have a valid Azure DevOps account.\n",
    "```sh\n",
    "pip install artifacts-keyring\n",
    "```\n",
    "Then, you need to add the package source to your pip configuration. You can do this by copying\n",
    "the pip configuration file (pip.conf for macOS and Linux or pip.ini for Windows) to your\n",
    "virtual environment directory or base python directory. The file should contain the following lines:\n",
    "```sh\n",
    "[global]\n",
    "extra-index-url=https://pkgs.dev.azure.com/SintefOceanEnergySystem/_packaging/SintefOceanEnergySystem/pypi/simple/\n",
    "```\n",
    "If you already have a pip configuration file, you can add the above lines to the file. Finally,\n",
    "you can install the package by running the following command:\n",
    "```sh\n",
    "pip install RunFeemsSim\n",
    "```"
   ]
  },
  {
   "cell_type": "markdown",
   "metadata": {},
   "source": [
    "## Installation of the development environment"
   ]
  },
  {
   "cell_type": "markdown",
   "metadata": {},
   "source": [
    "For the development, one should create a virtual environment and install the package using the\n",
    "requirements.txt file. First, create a virtual environment and activate it.\n",
    "```sh\n",
    "python -m venv venv\n",
    "source venv/bin/activate\n",
    "```\n",
    "Then, you need to add the package source to your pip configuration. You can do this by copying\n",
    "the pip configuration file (pip.conf for macOS and Linux or pip.ini for Windows) to your venv\n",
    "directory or base python directory. The file should contain the following lines:\n",
    "```sh\n",
    "[global]\n",
    "extra-index-url=https://pkgs.dev.azure.com/SintefOceanEnergySystem/_packaging/SintefOceanEnergySystem/pypi/simple/\n",
    "```\n",
    "\n",
    "Then, install the package using the requirements.txt file.\n",
    "```sh\n",
    "pip install -r requirements.txt\n",
    "```"
   ]
  },
  {
   "cell_type": "code",
   "execution_count": null,
   "metadata": {},
   "outputs": [],
   "source": []
  }
 ],
 "metadata": {
  "kernelspec": {
   "display_name": "python3",
   "language": "python",
   "name": "python3"
  }
 },
 "nbformat": 4,
 "nbformat_minor": 4
}
